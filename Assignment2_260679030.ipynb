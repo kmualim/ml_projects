{
 "cells": [
  {
   "cell_type": "code",
   "execution_count": 1,
   "metadata": {},
   "outputs": [],
   "source": [
    "import pandas as pd\n",
    "import numpy as np\n",
    "import random \n",
    "\n",
    "mean1=np.genfromtxt('DS1_m_0.txt',delimiter=',', usecols=range(0,20))\n",
    "mean2=np.genfromtxt('DS1_m_1.txt',delimiter=',', usecols=range(0,20))\n",
    "cov=np.genfromtxt('DS1_Cov.txt',delimiter=',', usecols=range(0,20))\n",
    "#print(mean1.shape)\n",
    "#print(mean2.shape)\n",
    "#print(cov.shape)"
   ]
  },
  {
   "cell_type": "code",
   "execution_count": 2,
   "metadata": {},
   "outputs": [],
   "source": [
    "# generating data \n",
    "negative = np.random.multivariate_normal(mean1, cov, 2000)\n",
    "positive = np.random.multivariate_normal(mean2, cov, 2000)\n",
    "\n",
    "#print(negative.shape)\n",
    "#print(positive.shape)\n",
    "\n",
    "np.random.shuffle(negative)\n",
    "np.random.shuffle(positive)\n",
    "\n",
    "test_neg = negative[:400]\n",
    "test_pos = positive[:400]\n",
    "valid_neg = negative[400:800]\n",
    "valid_pos = positive[400:800]\n",
    "train_neg = negative[800:]\n",
    "train_pos = positive[800:]\n",
    "\n",
    "# saving data \n",
    "train = np.vstack((train_neg, train_pos))\n",
    "valid = np.vstack((valid_neg, valid_pos))\n",
    "test = np.vstack((test_neg, test_pos))\n",
    "train=train.transpose()\n",
    "valid=valid.transpose()\n",
    "test=test.transpose()\n",
    "#print(test.shape)\n",
    "\n",
    "np.savetxt('DS1_test.txt', test, delimiter=',')\n",
    "np.savetxt('DS1_valid.txt', valid, delimiter=',')\n",
    "np.savetxt('DS1_train.txt', train, delimiter=',')"
   ]
  },
  {
   "cell_type": "code",
   "execution_count": 3,
   "metadata": {},
   "outputs": [
    {
     "name": "stdout",
     "output_type": "stream",
     "text": [
      "P(C1): 0.5\n",
      "P(C2): 0.5\n",
      "Mean for negative class: [[1.40678156]\n",
      " [1.35621231]\n",
      " [1.34121479]\n",
      " [1.31092959]\n",
      " [1.33147247]\n",
      " [1.28766246]\n",
      " [1.32792318]\n",
      " [1.34234643]\n",
      " [1.32209534]\n",
      " [1.30148562]\n",
      " [1.37894101]\n",
      " [1.34905823]\n",
      " [1.34575802]\n",
      " [1.40210804]\n",
      " [1.31273688]\n",
      " [1.25216984]\n",
      " [1.34289486]\n",
      " [1.36553229]\n",
      " [1.39307692]\n",
      " [1.26229694]]\n",
      "Mean for positive class: [[1.94902307]\n",
      " [1.94435908]\n",
      " [1.99891726]\n",
      " [1.98060256]\n",
      " [2.00887559]\n",
      " [1.95362731]\n",
      " [2.00858526]\n",
      " [1.9489678 ]\n",
      " [1.98912591]\n",
      " [1.9810488 ]\n",
      " [1.95527848]\n",
      " [1.99760139]\n",
      " [1.98676203]\n",
      " [1.92993441]\n",
      " [1.93206283]\n",
      " [1.89485157]\n",
      " [1.97858986]\n",
      " [1.97567225]\n",
      " [1.94194911]\n",
      " [1.88862365]]\n"
     ]
    }
   ],
   "source": [
    "train = np.asmatrix(np.genfromtxt('DS1_train.txt', delimiter=','))\n",
    "\n",
    "# split data equally to positive and negative \n",
    "train_neg = train[:,:1200]\n",
    "train_pos = train[:,1200:]\n",
    "\n",
    "# Bernoulli distribution \n",
    "p0 = train_neg.shape[1]/(train_neg.shape[1]+train_pos.shape[1])\n",
    "p1 = train_pos.shape[1]/(train_neg.shape[1]+train_pos.shape[1])\n",
    "print(\"P(C1):\", p0)\n",
    "print(\"P(C2):\",p1)\n",
    "\n",
    "size1 = train_neg.shape[1]\n",
    "size2 = train_pos.shape[1]\n",
    "total_size = size1+size2\n",
    "# getting the mean    \n",
    "mean_neg = np.sum(train_neg,axis=1)/size1\n",
    "mean_neg = mean_neg.reshape(20,1)\n",
    "mean_pos = np.sum(train_pos,axis=1)/size2\n",
    "mean_pos = mean_pos.reshape(20,1)\n",
    "print(\"Mean for negative class:\", mean_neg)\n",
    "print(\"Mean for positive class:\",mean_pos)"
   ]
  },
  {
   "cell_type": "code",
   "execution_count": 4,
   "metadata": {
    "scrolled": true
   },
   "outputs": [
    {
     "name": "stdout",
     "output_type": "stream",
     "text": [
      "Covariance= [[8.21084177 5.81045983 6.51574353 5.40659162 6.07448703 6.48302518\n",
      "  4.91372042 5.69846994 5.13556349 5.35263059 3.97659021 5.43830762\n",
      "  7.33211395 6.1882475  6.40615365 6.30199413 6.08534656 5.91464206\n",
      "  5.8280976  6.10541077]\n",
      " [5.81045983 7.17781434 5.74968339 4.56214706 5.76352709 5.88168893\n",
      "  4.53816627 4.11470624 4.30959546 5.13937907 3.50247095 4.77494712\n",
      "  6.12664193 5.35510537 5.76422015 5.48743818 5.92171698 5.36872245\n",
      "  5.59098102 5.49773584]\n",
      " [6.51574353 5.74968339 7.62760714 5.08124055 6.05357908 6.93364037\n",
      "  4.85339131 4.9832009  5.04621509 5.22588505 3.38983594 4.83609914\n",
      "  6.57495273 5.36407794 6.44015293 6.26428558 6.49615562 5.21494202\n",
      "  4.96356816 5.29507203]\n",
      " [5.40659162 4.56214706 5.08124055 5.94348157 5.48486855 4.68418495\n",
      "  3.91453446 4.53574611 3.50945405 4.30633176 2.84881275 4.29772834\n",
      "  6.01494385 4.96338172 5.06421353 5.32573905 4.84467887 4.72201754\n",
      "  4.12071403 5.89741384]\n",
      " [6.07448703 5.76352709 6.05357908 5.48486855 7.22049589 5.62528506\n",
      "  5.12969791 4.47950665 4.76731028 5.16965912 4.10593158 5.0767333\n",
      "  6.38693672 6.02594121 6.25198992 6.36807451 6.11164716 5.34236397\n",
      "  5.53936626 5.93372018]\n",
      " [6.48302518 5.88168893 6.93364037 4.68418495 5.62528506 7.09390391\n",
      "  4.68681995 5.09964035 4.8967621  5.47846752 3.08207834 4.99790427\n",
      "  6.60213361 5.16063482 6.11332775 6.26284053 6.17303056 5.21414326\n",
      "  5.02227466 5.36167627]\n",
      " [4.91372042 4.53816627 4.85339131 3.91453446 5.12969791 4.68681995\n",
      "  5.22240289 4.02230453 4.01057379 4.37170858 2.98599115 4.37885459\n",
      "  4.83554361 4.25618302 4.94007785 5.4310651  4.46001066 3.85245122\n",
      "  4.69143877 4.04690087]\n",
      " [5.69846994 4.11470624 4.9832009  4.53574611 4.47950665 5.09964035\n",
      "  4.02230453 6.21811443 3.62158964 5.06113193 2.52661542 4.96349628\n",
      "  6.33404803 5.27561072 5.06117257 6.32413104 4.58225831 5.0780418\n",
      "  4.91486083 4.58195429]\n",
      " [5.13556349 4.30959546 5.04621509 3.50945405 4.76731028 4.8967621\n",
      "  4.01057379 3.62158964 4.96882864 4.63879431 3.13040988 4.0808361\n",
      "  5.12713483 4.72040654 5.04316315 5.22035421 5.20322589 4.1733063\n",
      "  4.28461844 4.13690169]\n",
      " [5.35263059 5.13937907 5.22588505 4.30633176 5.16965912 5.47846752\n",
      "  4.37170858 5.06113193 4.63879431 7.2255153  3.27685231 4.74074484\n",
      "  6.9271971  5.27516608 5.10463419 6.07721793 4.79038625 5.4477378\n",
      "  4.54983471 5.30784716]\n",
      " [3.97659021 3.50247095 3.38983594 2.84881275 4.10593158 3.08207834\n",
      "  2.98599115 2.52661542 3.13040988 3.27685231 3.24633562 2.87322106\n",
      "  3.76505514 3.92015584 3.66438634 3.67543937 3.67323187 3.26705863\n",
      "  3.69685578 3.52548213]\n",
      " [5.43830762 4.77494712 4.83609914 4.29772834 5.0767333  4.99790427\n",
      "  4.37885459 4.96349628 4.0808361  4.74074484 2.87322106 5.29165066\n",
      "  6.09435795 5.08285435 4.98097827 5.66698764 5.11748291 5.00805388\n",
      "  5.08361894 4.59103739]\n",
      " [7.33211395 6.12664193 6.57495273 6.01494385 6.38693672 6.60213361\n",
      "  4.83554361 6.33404803 5.12713483 6.9271971  3.76505514 6.09435795\n",
      "  9.1878371  6.42079899 6.45662741 6.77225485 6.13189351 6.54904148\n",
      "  6.01959511 7.34238286]\n",
      " [6.1882475  5.35510537 5.36407794 4.96338172 6.02594121 5.16063482\n",
      "  4.25618302 5.27561072 4.72040654 5.27516608 3.92015584 5.08285435\n",
      "  6.42079899 7.04866444 6.04709368 6.37120969 5.82745151 5.7725259\n",
      "  6.0016725  5.58228113]\n",
      " [6.40615365 5.76422015 6.44015293 5.06421353 6.25198992 6.11332775\n",
      "  4.94007785 5.06117257 5.04316315 5.10463419 3.66438634 4.98097827\n",
      "  6.45662741 6.04709368 7.25267955 7.36157022 6.07703813 5.34226788\n",
      "  5.67057071 5.8892892 ]\n",
      " [6.30199413 5.48743818 6.26428558 5.32573905 6.36807451 6.26284053\n",
      "  5.4310651  6.32413104 5.22035421 6.07721793 3.67543937 5.66698764\n",
      "  6.77225485 6.37120969 7.36157022 9.38629212 6.01715297 6.05580818\n",
      "  5.78497521 6.02840238]\n",
      " [6.08534656 5.92171698 6.49615562 4.84467887 6.11164716 6.17303056\n",
      "  4.46001066 4.58225831 5.20322589 4.79038625 3.67323187 5.11748291\n",
      "  6.13189351 5.82745151 6.07703813 6.01715297 6.93232687 5.3452984\n",
      "  5.47888619 5.11583811]\n",
      " [5.91464206 5.36872245 5.21494202 4.72201754 5.34236397 5.21414326\n",
      "  3.85245122 5.0780418  4.1733063  5.4477378  3.26705863 5.00805388\n",
      "  6.54904148 5.7725259  5.34226788 6.05580818 5.3452984  6.125196\n",
      "  5.02490178 5.26492725]\n",
      " [5.8280976  5.59098102 4.96356816 4.12071403 5.53936626 5.02227466\n",
      "  4.69143877 4.91486083 4.28461844 4.54983471 3.69685578 5.08361894\n",
      "  6.01959511 6.0016725  5.67057071 5.78497521 5.47888619 5.02490178\n",
      "  6.44598017 5.05335127]\n",
      " [6.10541077 5.49773584 5.29507203 5.89741384 5.93372018 5.36167627\n",
      "  4.04690087 4.58195429 4.13690169 5.30784716 3.52548213 4.59103739\n",
      "  7.34238286 5.58228113 5.8892892  6.02840238 5.11583811 5.26492725\n",
      "  5.05335127 7.92148818]]\n"
     ]
    }
   ],
   "source": [
    "s1 = np.asmatrix(train_neg-mean_neg).dot(np.asmatrix(train_neg-mean_neg).transpose())\n",
    "s2 = np.asmatrix(train_pos-mean_pos).dot(np.asmatrix(train_pos-mean_pos).transpose())\n",
    "s_total = s1/(total_size) + s2/(total_size)\n",
    "print(\"Covariance=\", s_total) "
   ]
  },
  {
   "cell_type": "code",
   "execution_count": 5,
   "metadata": {},
   "outputs": [
    {
     "name": "stdout",
     "output_type": "stream",
     "text": [
      "W1: [[ 13.60822853]\n",
      " [ -8.21588776]\n",
      " [ -6.03829415]\n",
      " [ -3.48357102]\n",
      " [ -9.40172307]\n",
      " [ -3.77850091]\n",
      " [ 16.92858653]\n",
      " [-22.58114781]\n",
      " [-28.17806632]\n",
      " [  8.36317307]\n",
      " [-12.14562283]\n",
      " [-12.02679586]\n",
      " [ 15.10583801]\n",
      " [ 12.61281365]\n",
      " [ -5.15860202]\n",
      " [ 12.20128768]\n",
      " [ 28.68309467]\n",
      " [ -6.17024194]\n",
      " [ -1.42129265]\n",
      " [ -4.5914406 ]]\n",
      "W0: [[25.85056091]]\n"
     ]
    }
   ],
   "source": [
    "w= np.dot(np.linalg.inv(s_total),(mean_neg-mean_pos))\n",
    "w0=(-1/2)*(mean_neg.transpose().dot(np.linalg.inv(s_total).dot(mean_neg)))+(1/2)*((mean_pos.transpose().dot(np.linalg.inv(s_total).dot(mean_pos)))) + np.log(p0/p1)                                                                                           \n",
    "\n",
    "print(\"W1:\",w)\n",
    "print(\"W0:\", w0)"
   ]
  },
  {
   "cell_type": "code",
   "execution_count": 6,
   "metadata": {},
   "outputs": [],
   "source": [
    "### decision boundary \n",
    "def logsig(a): \n",
    "    return 1/(1+np.exp(-a))"
   ]
  },
  {
   "cell_type": "code",
   "execution_count": 7,
   "metadata": {},
   "outputs": [],
   "source": [
    "def class1(x,w,w0):\n",
    "    y = logsig(w.transpose().dot(x)+w0)\n",
    "    classify1 = np.zeros(x.shape[1])\n",
    "    classify1[np.where(y<0.5)[1]]=1\n",
    "    return classify1"
   ]
  },
  {
   "cell_type": "code",
   "execution_count": 8,
   "metadata": {},
   "outputs": [],
   "source": [
    "test = np.asmatrix(np.genfromtxt('DS1_test.txt', delimiter=','))\n",
    "class2=class1(test,w,w0)"
   ]
  },
  {
   "cell_type": "code",
   "execution_count": 9,
   "metadata": {},
   "outputs": [],
   "source": [
    "neg1=class2[:400]\n",
    "pos1=class2[400:]"
   ]
  },
  {
   "cell_type": "code",
   "execution_count": 10,
   "metadata": {},
   "outputs": [
    {
     "name": "stdout",
     "output_type": "stream",
     "text": [
      "376 24 381 19\n"
     ]
    }
   ],
   "source": [
    "trueneg = len(np.where(neg1 == 0)[0]) \n",
    "falsepos = len(np.where(neg1 == 1)[0]) \n",
    "truepos = len(np.where(pos1 == 1)[0]) \n",
    "falseneg = len(np.where(pos1 == 0)[0]) \n",
    "print(trueneg, falsepos, truepos, falseneg)"
   ]
  },
  {
   "cell_type": "code",
   "execution_count": 11,
   "metadata": {},
   "outputs": [
    {
     "name": "stdout",
     "output_type": "stream",
     "text": [
      "For Dataset1:\n",
      "Accuracy: 0.94625\n",
      "Precision: 0.9407407407407408\n",
      "Recall: 0.9525\n",
      "F1 Measure: 0.9465838509316771\n"
     ]
    }
   ],
   "source": [
    "def decisionmatrix(trueneg, falsepos, truepos, falseneg):\n",
    "    acc = (trueneg+truepos)/(trueneg+falseneg+truepos+falsepos)\n",
    "    prec = truepos/(truepos+falsepos)\n",
    "    rec = truepos/(truepos+falseneg)\n",
    "    fmeasure = 2*prec*rec/(prec+rec)\n",
    "    return acc, prec, rec, fmeasure\n",
    "\n",
    "acc, prec, rec, fmeasure = decisionmatrix(trueneg,falsepos,truepos,falseneg)\n",
    "\n",
    "print(\"For Dataset1:\")\n",
    "print(\"Accuracy:\",acc)\n",
    "print(\"Precision:\",prec)\n",
    "print(\"Recall:\",rec)\n",
    "print(\"F1 Measure:\",fmeasure)"
   ]
  },
  {
   "cell_type": "code",
   "execution_count": 12,
   "metadata": {},
   "outputs": [],
   "source": [
    "train = np.asmatrix(np.genfromtxt('DS1_train.txt', delimiter=','))\n",
    "valid = np.asmatrix(np.genfromtxt('DS1_valid.txt', delimiter=','))\n",
    "test = np.asmatrix(np.genfromtxt('DS1_test.txt', delimiter=','))\n",
    "#print(train.shape)\n",
    "#print(test.shape)"
   ]
  },
  {
   "cell_type": "code",
   "execution_count": null,
   "metadata": {},
   "outputs": [],
   "source": []
  },
  {
   "cell_type": "code",
   "execution_count": 13,
   "metadata": {},
   "outputs": [],
   "source": [
    "# calculates distance between each row of training and test data \n",
    "def euclideanDist(train, test):\n",
    "    distance=np.sum(np.square(np.subtract(train,test)),axis=0)\n",
    "    return np.sqrt(distance)  "
   ]
  },
  {
   "cell_type": "code",
   "execution_count": 14,
   "metadata": {},
   "outputs": [],
   "source": [
    "def classify(distancematrix, k): \n",
    "    neighbours = distancematrix[:, :k]\n",
    "    neighbours[np.where(neighbours<1200)]=0\n",
    "    neighbours[np.where(neighbours>=1200)]=1\n",
    "    average = np.sum(neighbours)/(neighbours.shape[1])\n",
    "    x=0\n",
    "    if (average>0.5): \n",
    "        x=1\n",
    "    return x"
   ]
  },
  {
   "cell_type": "code",
   "execution_count": 15,
   "metadata": {},
   "outputs": [],
   "source": [
    "# kNN model \n",
    "def knn(train, test, k): \n",
    "    kmatrix=np.zeros((k,test.shape[1]))\n",
    "    for i in range(k):\n",
    "        for x in range(test.shape[1]): \n",
    "            distance = euclideanDist(train,test[:,x])\n",
    "            sorteddist = np.argsort(distance)\n",
    "            kmatrix[i,x]=classify(sorteddist, i+1)\n",
    "    return kmatrix"
   ]
  },
  {
   "cell_type": "code",
   "execution_count": 16,
   "metadata": {},
   "outputs": [],
   "source": [
    "# good starting point for k is via using sqrt(n)\n",
    "k=100\n",
    "# store k nearest neighbours in kmatrix     \n",
    "kmatrix=knn(train, valid, k)\n",
    "#print(kmatrix)\n",
    "np.random.shuffle(kmatrix)\n",
    "kmatrix_pos = kmatrix[:, 400:] \n",
    "kmatrix_neg = kmatrix[:, :400]\n",
    "#print(kmatrix_pos.shape)\n",
    "#print(kmatrix_neg.shape)"
   ]
  },
  {
   "cell_type": "code",
   "execution_count": 17,
   "metadata": {},
   "outputs": [],
   "source": [
    "acc_knn=np.zeros(k)\n",
    "prec_knn=np.zeros(k)\n",
    "rec_knn=np.zeros(k)\n",
    "fmeasure_knn=np.zeros(k)"
   ]
  },
  {
   "cell_type": "code",
   "execution_count": 18,
   "metadata": {},
   "outputs": [],
   "source": [
    "def accuracy(k, kmatrix_neg, kmatrix_pos):\n",
    "    for i in range(k):\n",
    "        trueneg_knn = len(np.where(kmatrix_neg[i,:] == 0)[0]) \n",
    "        falsepos_knn = len(np.where(kmatrix_neg[i,:] == 1)[0]) \n",
    "        truepos_knn = len(np.where(kmatrix_pos[i,:] == 1)[0]) \n",
    "        falseneg_knn = len(np.where(kmatrix_pos[i,:] == 0)[0]) \n",
    "        acc_knn[i] = (trueneg_knn+truepos_knn)/(trueneg_knn+falseneg_knn+truepos_knn+falsepos_knn)\n",
    "        prec_knn[i] = truepos_knn/(truepos_knn+falsepos_knn)\n",
    "        rec_knn[i] = truepos_knn/(truepos_knn+falseneg_knn)\n",
    "        fmeasure_knn[i] = (2*prec_knn[i]*rec_knn[i])/(prec_knn[i]+rec_knn[i])\n",
    "    return acc_knn, prec_knn, rec_knn, fmeasure_knn "
   ]
  },
  {
   "cell_type": "code",
   "execution_count": 19,
   "metadata": {},
   "outputs": [
    {
     "name": "stdout",
     "output_type": "stream",
     "text": [
      "Result: [[0.53125    0.53753754 0.4475     0.48840382]\n",
      " [0.55875    0.56582633 0.505      0.5336856 ]\n",
      " [0.5525     0.55072464 0.57       0.56019656]\n",
      " [0.55125    0.55086849 0.555      0.55292653]\n",
      " [0.5625     0.56038647 0.58       0.57002457]\n",
      " [0.55125    0.55380577 0.5275     0.54033291]\n",
      " [0.5425     0.54381443 0.5275     0.53553299]\n",
      " [0.54625    0.54683544 0.54       0.54339623]\n",
      " [0.55875    0.55662651 0.5775     0.56687117]\n",
      " [0.54375    0.54475703 0.5325     0.53855879]\n",
      " [0.555      0.55527638 0.5525     0.55388471]\n",
      " [0.54875    0.54961832 0.54       0.54476671]\n",
      " [0.5425     0.54427083 0.5225     0.53316327]\n",
      " [0.5025     0.50490196 0.2575     0.3410596 ]\n",
      " [0.5225     0.52238806 0.525      0.52369077]\n",
      " [0.5675     0.56852792 0.56       0.56423174]\n",
      " [0.56125    0.56265985 0.55       0.5562579 ]\n",
      " [0.53875    0.54466859 0.4725     0.5060241 ]\n",
      " [0.5575     0.55808081 0.5525     0.55527638]\n",
      " [0.535      0.53589744 0.5225     0.52911392]\n",
      " [0.55625    0.55667506 0.5525     0.55457967]\n",
      " [0.55875    0.56072351 0.5425     0.55146125]\n",
      " [0.5525     0.55       0.5775     0.56341463]\n",
      " [0.54875    0.54936709 0.5425     0.54591195]\n",
      " [0.55125    0.55012225 0.5625     0.55624227]\n",
      " [0.535      0.54216867 0.45       0.49180328]\n",
      " [0.55125    0.55216285 0.5425     0.54728878]\n",
      " [0.5575     0.55927835 0.5425     0.55076142]\n",
      " [0.535      0.54046243 0.4675     0.50134048]\n",
      " [0.5475     0.55       0.5225     0.53589744]\n",
      " [0.5275     0.5275     0.5275     0.5275    ]\n",
      " [0.555      0.55365854 0.5675     0.56049383]\n",
      " [0.525      0.53968254 0.34       0.41717791]\n",
      " [0.54375    0.54216867 0.5625     0.55214724]\n",
      " [0.5525     0.55865922 0.5        0.52770449]\n",
      " [0.54875    0.54767726 0.56       0.55377009]\n",
      " [0.55       0.55050505 0.545      0.54773869]\n",
      " [0.5425     0.54292929 0.5375     0.54020101]\n",
      " [0.55       0.55025126 0.5475     0.54887218]\n",
      " [0.53125    0.53101737 0.535      0.53300125]\n",
      " [0.555      0.55392157 0.565      0.55940594]\n",
      " [0.54875    0.5503876  0.5325     0.54129606]\n",
      " [0.5375     0.53787879 0.5325     0.53517588]\n",
      " [0.52375    0.52405063 0.5175     0.52075472]\n",
      " [0.52625    0.52605459 0.53       0.52801993]\n",
      " [0.555      0.55288462 0.575      0.56372549]\n",
      " [0.56125    0.56265985 0.55       0.5562579 ]\n",
      " [0.5575     0.55609756 0.57       0.56296296]\n",
      " [0.52125    0.52173913 0.51       0.51580278]\n",
      " [0.54875    0.54961832 0.54       0.54476671]\n",
      " [0.54625    0.54523227 0.5575     0.5512979 ]\n",
      " [0.52625    0.53488372 0.4025     0.45934379]\n",
      " [0.5325     0.5325     0.5325     0.5325    ]\n",
      " [0.56       0.55853659 0.5725     0.5654321 ]\n",
      " [0.55125    0.55012225 0.5625     0.55624227]\n",
      " [0.55       0.55025126 0.5475     0.54887218]\n",
      " [0.55       0.55025126 0.5475     0.54887218]\n",
      " [0.545      0.54761905 0.5175     0.53213368]\n",
      " [0.545      0.55142857 0.4825     0.51466667]\n",
      " [0.55375    0.55922865 0.5075     0.53211009]\n",
      " [0.54625    0.54755784 0.5325     0.53992395]\n",
      " [0.535      0.53553299 0.5275     0.53148615]\n",
      " [0.52375    0.52722063 0.46       0.49132176]\n",
      " [0.5625     0.56067961 0.5775     0.56896552]\n",
      " [0.51875    0.52650177 0.3725     0.4363104 ]\n",
      " [0.54375    0.54957507 0.485      0.51527224]\n",
      " [0.525      0.5245098  0.535      0.52970297]\n",
      " [0.54       0.54395604 0.495      0.51832461]\n",
      " [0.53125    0.53918495 0.43       0.47844228]\n",
      " [0.5375     0.5433526  0.47       0.50402145]\n",
      " [0.54375    0.54985755 0.4825     0.51398136]\n",
      " [0.55       0.55524862 0.5025     0.52755906]\n",
      " [0.5475     0.5475     0.5475     0.5475    ]\n",
      " [0.5525     0.56034483 0.4875     0.52139037]\n",
      " [0.55125    0.54916067 0.5725     0.56058752]\n",
      " [0.55125    0.55012225 0.5625     0.55624227]\n",
      " [0.54625    0.54731458 0.535      0.54108723]\n",
      " [0.54625    0.54731458 0.535      0.54108723]\n",
      " [0.5675     0.56818182 0.5625     0.56532663]\n",
      " [0.53125    0.53071253 0.54       0.53531599]\n",
      " [0.51625    0.52509653 0.34       0.41274659]\n",
      " [0.52125    0.52173913 0.51       0.51580278]\n",
      " [0.55625    0.5648415  0.49       0.52476573]\n",
      " [0.51125    0.51111111 0.5175     0.51428571]\n",
      " [0.57       0.56763285 0.5875     0.57739558]\n",
      " [0.54375    0.54874652 0.4925     0.51910408]\n",
      " [0.52       0.51970443 0.5275     0.5235732 ]\n",
      " [0.545      0.5505618  0.49       0.51851852]\n",
      " [0.52625    0.52605459 0.53       0.52801993]\n",
      " [0.55       0.55524862 0.5025     0.52755906]\n",
      " [0.54375    0.54475703 0.5325     0.53855879]\n",
      " [0.55       0.55102041 0.54       0.54545455]\n",
      " [0.5525     0.55097087 0.5675     0.5591133 ]\n",
      " [0.53375    0.54029851 0.4525     0.49251701]\n",
      " [0.5575     0.55450237 0.585      0.56934307]\n",
      " [0.54875    0.55064935 0.53       0.54012739]\n",
      " [0.5175     0.52430556 0.3775     0.43895349]\n",
      " [0.53625    0.5399449  0.49       0.51376147]\n",
      " [0.54875    0.5483871  0.5525     0.55043587]\n",
      " [0.54375    0.5440806  0.54       0.54203262]]\n"
     ]
    }
   ],
   "source": [
    "acc_knn, prec_knn, rec_knn, fmeasure_knn = accuracy(k, kmatrix_neg, kmatrix_pos)\n",
    "result = np.vstack((acc_knn,prec_knn,rec_knn,fmeasure_knn)).transpose()\n",
    "print(\"Result:\",result)"
   ]
  },
  {
   "cell_type": "code",
   "execution_count": null,
   "metadata": {},
   "outputs": [],
   "source": []
  },
  {
   "cell_type": "code",
   "execution_count": 20,
   "metadata": {},
   "outputs": [
    {
     "name": "stdout",
     "output_type": "stream",
     "text": [
      "84\n"
     ]
    }
   ],
   "source": [
    "best_k = np.argmax(fmeasure_knn)\n",
    "print(best_k)\n",
    "########## USING VALIDATION, PICK BEST K \n",
    "kmatrix_test=knn(train, test, best_k)\n",
    "kmatrix_test_neg = kmatrix_test[:, :400]\n",
    "kmatrix_test_pos = kmatrix_test[:, 400:]   "
   ]
  },
  {
   "cell_type": "code",
   "execution_count": 21,
   "metadata": {},
   "outputs": [],
   "source": [
    "trueneg_test = len(np.where(kmatrix_test_neg == 0)[0]) \n",
    "falsepos_test = len(np.where(kmatrix_test_neg == 1)[0]) \n",
    "truepos_test = len(np.where(kmatrix_test_pos == 1)[0]) \n",
    "falseneg_test = len(np.where(kmatrix_test_pos == 0)[0]) \n",
    "#print(trueneg_test, falsepos_test, truepos_test, falseneg_test)"
   ]
  },
  {
   "cell_type": "code",
   "execution_count": 22,
   "metadata": {},
   "outputs": [
    {
     "name": "stdout",
     "output_type": "stream",
     "text": [
      "For Dataset1_KNN:\n",
      "Accuracy: 0.5597470238095238\n",
      "Precision: 0.5623854066316542\n",
      "Recall: 0.5386011904761905\n",
      "F1 Measure: 0.5502363976345033\n"
     ]
    }
   ],
   "source": [
    "acc_test, prec_test, rec_test, fmeasure_test = decisionmatrix(trueneg_test, falsepos_test, truepos_test, falseneg_test)\n",
    "\n",
    "print(\"For Dataset1_KNN:\")\n",
    "print(\"Accuracy:\",acc_test)\n",
    "print(\"Precision:\",prec_test)\n",
    "print(\"Recall:\",rec_test)\n",
    "print(\"F1 Measure:\",fmeasure_test)"
   ]
  },
  {
   "cell_type": "code",
   "execution_count": 23,
   "metadata": {},
   "outputs": [],
   "source": [
    "mean_n1=np.genfromtxt('DS2_c2_m1.txt',delimiter=',', usecols=range(0,20))\n",
    "mean_p1=np.genfromtxt('DS2_c1_m1.txt',delimiter=',', usecols=range(0,20))\n",
    "cov1=np.genfromtxt('DS2_Cov1.txt',delimiter=',', usecols=range(0,20))\n",
    "mean_n2=np.genfromtxt('DS2_c2_m2.txt',delimiter=',', usecols=range(0,20))\n",
    "mean_p2=np.genfromtxt('DS2_c1_m2.txt',delimiter=',', usecols=range(0,20))\n",
    "cov2=np.genfromtxt('DS2_Cov2.txt',delimiter=',', usecols=range(0,20))\n",
    "mean_n3=np.genfromtxt('DS2_c2_m3.txt',delimiter=',', usecols=range(0,20))\n",
    "mean_p3=np.genfromtxt('DS2_c1_m3.txt',delimiter=',', usecols=range(0,20))\n",
    "cov3=np.genfromtxt('DS2_Cov3.txt',delimiter=',', usecols=range(0,20))"
   ]
  },
  {
   "cell_type": "code",
   "execution_count": 24,
   "metadata": {},
   "outputs": [],
   "source": [
    "negative1 = np.random.multivariate_normal(mean_n1, cov1, 2000)\n",
    "positive1 = np.random.multivariate_normal(mean_p1, cov1, 2000)\n",
    "negative2 = np.random.multivariate_normal(mean_n2, cov2, 2000)\n",
    "positive2 = np.random.multivariate_normal(mean_p2, cov2, 2000)\n",
    "negative3 = np.random.multivariate_normal(mean_n3, cov3, 2000)\n",
    "positive3 = np.random.multivariate_normal(mean_p3, cov3, 2000)\n",
    "\n",
    "np.random.shuffle(negative1)\n",
    "np.random.shuffle(negative2)\n",
    "np.random.shuffle(negative3)\n",
    "np.random.shuffle(positive1)\n",
    "np.random.shuffle(positive2)\n",
    "np.random.shuffle(positive3)\n",
    "\n",
    "negative123=np.vstack((negative1[:200],negative2[:840],negative3[:960]))\n",
    "positive123=np.vstack((positive1[:200],positive2[:840],positive3[:960]))\n",
    "\n",
    "\n",
    "np.random.shuffle(negative123)\n",
    "np.random.shuffle(positive123)\n",
    "                      \n",
    "test_neg1 = negative123[:400]\n",
    "test_pos1 = positive123[:400]\n",
    "valid_neg1 = negative123[400:800]\n",
    "valid_pos1 = positive123[400:800]\n",
    "train_neg1 = negative123[800:]\n",
    "train_pos1 = positive123[800:]\n",
    "                      \n",
    "# saving data \n",
    "train = np.vstack((train_neg1, train_pos1))\n",
    "valid = np.vstack((valid_neg1, valid_pos1))\n",
    "test = np.vstack((test_neg1, test_pos1))\n",
    "DS2 = np.vstack((train,valid,test)).transpose()\n",
    "train=train.transpose()\n",
    "valid=valid.transpose()\n",
    "test=test.transpose()\n",
    "#print(test.shape)\n",
    "#print(train.shape)\n",
    "\n",
    "np.savetxt('DS2_test.txt', test, delimiter=',')\n",
    "np.savetxt('DS2_valid.txt', valid, delimiter=',')\n",
    "np.savetxt('DS2_train.txt', train, delimiter=',')\n",
    "np.savetxt('DS2.txt',DS2, delimiter=',')\n",
    "\n",
    "                    "
   ]
  },
  {
   "cell_type": "code",
   "execution_count": 25,
   "metadata": {},
   "outputs": [
    {
     "name": "stdout",
     "output_type": "stream",
     "text": [
      "P(C1): 0.5\n",
      "P(C2): 0.5\n",
      "Mean for negative class_DS2: [[1.15945546]\n",
      " [1.16438647]\n",
      " [1.11084744]\n",
      " [1.14350626]\n",
      " [1.16799865]\n",
      " [1.1266781 ]\n",
      " [1.14575689]\n",
      " [1.19845562]\n",
      " [1.14260439]\n",
      " [1.1371304 ]\n",
      " [1.12019077]\n",
      " [1.12490572]\n",
      " [1.06493517]\n",
      " [1.07997825]\n",
      " [1.11884202]\n",
      " [1.15282872]\n",
      " [1.09294206]\n",
      " [1.20980663]\n",
      " [1.09750151]\n",
      " [1.14893972]]\n",
      "Mean for positive class_DS2: [[0.88977517]\n",
      " [0.83590452]\n",
      " [0.86251393]\n",
      " [0.92966219]\n",
      " [0.8726556 ]\n",
      " [0.8878994 ]\n",
      " [0.8303052 ]\n",
      " [0.89776702]\n",
      " [0.88975272]\n",
      " [0.94849961]\n",
      " [0.88028921]\n",
      " [0.92276132]\n",
      " [0.94945254]\n",
      " [0.87057591]\n",
      " [0.92644006]\n",
      " [0.85608308]\n",
      " [0.97932313]\n",
      " [0.88598625]\n",
      " [0.82167947]\n",
      " [0.88339815]]\n"
     ]
    }
   ],
   "source": [
    "train1 = np.asmatrix(np.genfromtxt('DS2_train.txt', delimiter=','))\n",
    "#print(train1.shape)\n",
    "# split data equally to positive and negative \n",
    "train_neg1 = train1[:,:1200]\n",
    "train_pos1 = train1[:,1200:]\n",
    "\n",
    "# Bernoulli distribution \n",
    "p01 = train_neg1.shape[1]/(train_neg1.shape[1]+train_pos1.shape[1])\n",
    "p11 = train_pos1.shape[1]/(train_neg1.shape[1]+train_pos1.shape[1])\n",
    "print(\"P(C1):\", p01)\n",
    "print(\"P(C2):\",p11)\n",
    "\n",
    "size11 = train_neg1.shape[1]\n",
    "size21 = train_pos1.shape[1]\n",
    "total_size1 = size11+size21\n",
    "\n",
    "# getting the mean    \n",
    "mean_neg1 = (np.sum(train_neg1,axis=1)/size11).reshape(20,1)\n",
    "mean_pos1 = (np.sum(train_pos1,axis=1)/size21).reshape(20,1)\n",
    "print(\"Mean for negative class_DS2:\", mean_neg1)\n",
    "print(\"Mean for positive class_DS2:\",mean_pos1)"
   ]
  },
  {
   "cell_type": "code",
   "execution_count": 26,
   "metadata": {},
   "outputs": [
    {
     "name": "stdout",
     "output_type": "stream",
     "text": [
      "Covariance_DS2 is: [[7.95863594 5.56492099 4.71021435 5.10805404 4.31551833 5.89575196\n",
      "  6.10463365 5.68313304 4.90100779 5.53506774 5.7642167  5.19084741\n",
      "  5.26342646 6.2670544  5.48075891 5.74441744 5.49152307 5.64111181\n",
      "  5.77217203 5.9235058 ]\n",
      " [5.56492099 7.35799244 4.99146501 5.27324197 5.0830105  6.13559797\n",
      "  6.64356399 5.40875599 4.80174009 5.2280416  4.96444339 5.15307217\n",
      "  5.02255921 6.14227008 5.72520316 6.0348085  5.35048668 5.22913926\n",
      "  6.25093094 5.74375264]\n",
      " [4.71021435 4.99146501 6.77336692 5.23440936 4.79331785 4.99488148\n",
      "  6.05982496 4.60998656 4.71859229 4.88645765 4.87792074 5.19243909\n",
      "  5.17628104 6.06995194 5.47474765 4.96057582 5.43365129 4.52972064\n",
      "  5.93685439 5.82987541]\n",
      " [5.10805404 5.27324197 5.23440936 6.61912838 4.25761936 5.62727023\n",
      "  6.27612734 5.41122315 4.89807672 5.51148764 4.99154591 4.95337096\n",
      "  4.99721292 5.53373292 5.36722166 5.38536022 5.19369816 5.27558657\n",
      "  5.87702744 5.65559411]\n",
      " [4.31551833 5.0830105  4.79331785 4.25761936 5.63348136 4.75278415\n",
      "  5.08965765 4.45492691 3.80021373 4.12452599 3.82505058 4.26186869\n",
      "  4.26584236 4.76527389 5.2709505  4.87530526 4.31613394 4.55746888\n",
      "  5.28805936 4.94222846]\n",
      " [5.89575196 6.13559797 4.99488148 5.62727023 4.75278415 7.91952448\n",
      "  6.78566843 5.34364568 5.72657924 5.65767346 4.98851324 5.1349741\n",
      "  5.54501217 6.57000296 5.77344423 6.0345449  5.71284777 5.5338814\n",
      "  6.64137725 6.22226879]\n",
      " [6.10463365 6.64356399 6.05982496 6.27612734 5.08965765 6.78566843\n",
      "  8.60572722 6.05509909 5.96793124 6.21454647 6.09459753 6.00631031\n",
      "  5.70302646 7.15253975 6.12556732 6.38131889 5.96805367 5.78425254\n",
      "  7.29444562 6.34833729]\n",
      " [5.68313304 5.40875599 4.60998656 5.41122315 4.45492691 5.34364568\n",
      "  6.05509909 6.48403601 4.80644286 5.18682265 4.65220645 4.83745596\n",
      "  4.35255125 5.54091655 5.32390801 5.26501273 4.90495382 5.69579758\n",
      "  5.54587222 5.3387113 ]\n",
      " [4.90100779 4.80174009 4.71859229 4.89807672 3.80021373 5.72657924\n",
      "  5.96793124 4.80644286 6.14747072 4.79317266 4.46065437 4.58980571\n",
      "  4.58548271 5.39508105 4.95325509 4.64669086 4.88471005 4.79176519\n",
      "  5.08975734 4.96821862]\n",
      " [5.53506774 5.2280416  4.88645765 5.51148764 4.12452599 5.65767346\n",
      "  6.21454647 5.18682265 4.79317266 6.83250985 4.86097433 4.75344098\n",
      "  5.04238404 5.80624789 5.25919565 5.17662722 5.11187145 4.74727754\n",
      "  6.20878325 5.36509933]\n",
      " [5.7642167  4.96444339 4.87792074 4.99154591 3.82505058 4.98851324\n",
      "  6.09459753 4.65220645 4.46065437 4.86097433 6.31494104 5.23364547\n",
      "  4.80579663 5.30819287 5.13757578 4.88076752 4.88492651 4.79244415\n",
      "  5.82247888 5.3485797 ]\n",
      " [5.19084741 5.15307217 5.19243909 4.95337096 4.26186869 5.1349741\n",
      "  6.00631031 4.83745596 4.58980571 4.75344098 5.23364547 6.57634366\n",
      "  4.72473421 5.50164676 5.56877691 5.18521502 5.28780672 5.08960616\n",
      "  5.81415066 5.36765232]\n",
      " [5.26342646 5.02255921 5.17628104 4.99721292 4.26584236 5.54501217\n",
      "  5.70302646 4.35255125 4.58548271 5.04238404 4.80579663 4.72473421\n",
      "  6.37546265 5.60103528 5.63771031 5.36924295 5.27784137 4.78481424\n",
      "  5.82450256 5.4512125 ]\n",
      " [6.2670544  6.14227008 6.06995194 5.53373292 4.76527389 6.57000296\n",
      "  7.15253975 5.54091655 5.39508105 5.80624789 5.30819287 5.50164676\n",
      "  5.60103528 8.3114674  5.97845926 5.78707307 6.2749047  4.76139849\n",
      "  6.42346645 6.28169129]\n",
      " [5.48075891 5.72520316 5.47474765 5.36722166 5.2709505  5.77344423\n",
      "  6.12556732 5.32390801 4.95325509 5.25919565 5.13757578 5.56877691\n",
      "  5.63771031 5.97845926 7.34410958 5.50937898 5.52675504 5.44301013\n",
      "  5.99130391 6.19939677]\n",
      " [5.74441744 6.0348085  4.96057582 5.38536022 4.87530526 6.0345449\n",
      "  6.38131889 5.26501273 4.64669086 5.17662722 4.88076752 5.18521502\n",
      "  5.36924295 5.78707307 5.50937898 6.70598295 5.30244084 5.65926012\n",
      "  6.26085068 5.74466365]\n",
      " [5.49152307 5.35048668 5.43365129 5.19369816 4.31613394 5.71284777\n",
      "  5.96805367 4.90495382 4.88471005 5.11187145 4.88492651 5.28780672\n",
      "  5.27784137 6.2749047  5.52675504 5.30244084 6.85130051 4.67839156\n",
      "  5.8092887  6.12901143]\n",
      " [5.64111181 5.22913926 4.52972064 5.27558657 4.55746888 5.5338814\n",
      "  5.78425254 5.69579758 4.79176519 4.74727754 4.79244415 5.08960616\n",
      "  4.78481424 4.76139849 5.44301013 5.65926012 4.67839156 7.0359158\n",
      "  5.71003318 5.39695018]\n",
      " [5.77217203 6.25093094 5.93685439 5.87702744 5.28805936 6.64137725\n",
      "  7.29444562 5.54587222 5.08975734 6.20878325 5.82247888 5.81415066\n",
      "  5.82450256 6.42346645 5.99130391 6.26085068 5.8092887  5.71003318\n",
      "  8.36934362 6.46942782]\n",
      " [5.9235058  5.74375264 5.82987541 5.65559411 4.94222846 6.22226879\n",
      "  6.34833729 5.3387113  4.96821862 5.36509933 5.3485797  5.36765232\n",
      "  5.4512125  6.28169129 6.19939677 5.74466365 6.12901143 5.39695018\n",
      "  6.46942782 7.82496289]]\n"
     ]
    }
   ],
   "source": [
    "s11 = np.asmatrix(train_neg1-mean_neg1).dot(np.asmatrix(train_neg1-mean_neg1).transpose())\n",
    "s21 = np.asmatrix(train_pos1-mean_pos1).dot(np.asmatrix(train_pos1-mean_pos1).transpose()) \n",
    "s_total1 = s11/total_size1 + s21/total_size1\n",
    "print(\"Covariance_DS2 is:\",s_total1)"
   ]
  },
  {
   "cell_type": "code",
   "execution_count": 27,
   "metadata": {},
   "outputs": [
    {
     "name": "stdout",
     "output_type": "stream",
     "text": [
      "W1_DS2: [[-12.90307113]\n",
      " [  8.41931307]\n",
      " [  7.51954159]\n",
      " [  4.10046572]\n",
      " [ 10.07078801]\n",
      " [  2.94607961]\n",
      " [-18.72919453]\n",
      " [ 21.86830896]\n",
      " [ 28.92643441]\n",
      " [ -7.71393198]\n",
      " [ 11.1579141 ]\n",
      " [ 12.73829251]\n",
      " [-16.00739746]\n",
      " [-13.27694665]\n",
      " [  4.18759028]\n",
      " [-11.44060363]\n",
      " [-30.09109372]\n",
      " [  5.72921484]\n",
      " [  3.26796127]\n",
      " [  4.47871591]]\n",
      "w0_DS2: [[-0.05358927]]\n"
     ]
    }
   ],
   "source": [
    "w_ds2=np.dot(np.linalg.inv(s_total),np.asmatrix(mean_neg1-mean_pos1))\n",
    "w0_ds2=(-1/2)*(mean_neg1.transpose().dot(np.linalg.inv(s_total1)).dot(mean_neg1))+(1/2)*((mean_pos1.transpose().dot(np.linalg.inv(s_total1)).dot(mean_pos1)))+np.log(p01/p11)                                                                                           \n",
    "print(\"W1_DS2:\",w_ds2)\n",
    "print(\"w0_DS2:\", w0_ds2)"
   ]
  },
  {
   "cell_type": "code",
   "execution_count": 28,
   "metadata": {},
   "outputs": [
    {
     "name": "stdout",
     "output_type": "stream",
     "text": [
      "249 151 174 226\n"
     ]
    }
   ],
   "source": [
    "\n",
    "test_ds2 = np.asmatrix(np.genfromtxt('DS2_test.txt', delimiter=','))\n",
    "class2_ds2=class1(test_ds2,w_ds2,w0_ds2)\n",
    "negative_ds2=class2_ds2[:400]\n",
    "positive_ds2=class2_ds2[400:]\n",
    "\n",
    "trueneg_ds2 = len(np.where(negative_ds2 == 0)[0]) \n",
    "falsepos_ds2 = len(np.where(negative_ds2 == 1)[0]) \n",
    "truepos_ds2 = len(np.where(positive_ds2 == 1)[0]) \n",
    "falseneg_ds2 = len(np.where(positive_ds2 == 0)[0]) \n",
    "print(trueneg_ds2, falsepos_ds2, truepos_ds2, falseneg_ds2)\n"
   ]
  },
  {
   "cell_type": "code",
   "execution_count": 29,
   "metadata": {},
   "outputs": [
    {
     "name": "stdout",
     "output_type": "stream",
     "text": [
      "For Dataset 2_GDA:\n",
      "Accuracy: 0.52875\n",
      "Precision: 0.5353846153846153\n",
      "Recall: 0.435\n",
      "F1 Measure: 0.48\n"
     ]
    }
   ],
   "source": [
    "acc_ds2,prec_ds2,rec_ds2,fmeasure_ds2 = decisionmatrix(trueneg_ds2, falsepos_ds2, truepos_ds2, falseneg_ds2)\n",
    "\n",
    "print(\"For Dataset 2_GDA:\")\n",
    "print(\"Accuracy:\",acc_ds2)\n",
    "print(\"Precision:\",prec_ds2)\n",
    "print(\"Recall:\",rec_ds2)\n",
    "print(\"F1 Measure:\",fmeasure_ds2)"
   ]
  },
  {
   "cell_type": "code",
   "execution_count": 30,
   "metadata": {},
   "outputs": [],
   "source": [
    "###### KNN for DS2 \n",
    "train_ds2 = np.asmatrix(np.genfromtxt('DS2_train.txt', delimiter=','))\n",
    "valid_ds2 = np.asmatrix(np.genfromtxt('DS2_valid.txt', delimiter=','))\n",
    "test_ds2 = np.asmatrix(np.genfromtxt('DS2_test.txt', delimiter=','))\n"
   ]
  },
  {
   "cell_type": "code",
   "execution_count": 31,
   "metadata": {},
   "outputs": [],
   "source": [
    "k=100\n",
    "# store k nearest neighbours in kmatrix     \n",
    "kmatrix_ds2=knn(train_ds2, valid_ds2, k)\n",
    "#print(kmatrix)\n",
    "np.random.shuffle(kmatrix_ds2)\n",
    "kmatrix_neg_ds2 = kmatrix_ds2[:, :400]\n",
    "kmatrix_pos_ds2 = kmatrix_ds2[:, 400:] "
   ]
  },
  {
   "cell_type": "code",
   "execution_count": 32,
   "metadata": {},
   "outputs": [],
   "source": [
    "acc_ds2_knn=np.zeros(k)\n",
    "prec_ds2_knn=np.zeros(k)\n",
    "rec_ds2_knn=np.zeros(k)\n",
    "fmeasure_ds2_knn=np.zeros(k)"
   ]
  },
  {
   "cell_type": "code",
   "execution_count": 33,
   "metadata": {},
   "outputs": [],
   "source": [
    "for i in range(k):\n",
    "    trueneg_ds2_knn = len(np.where(kmatrix_neg_ds2[i,:] == 0)[0]) \n",
    "    falsepos_ds2_knn = len(np.where(kmatrix_neg_ds2[i,:] == 1)[0]) \n",
    "    truepos_ds2_knn = len(np.where(kmatrix_pos_ds2[i,:] == 1)[0]) \n",
    "    falseneg_ds2_knn = len(np.where(kmatrix_pos_ds2[i,:] == 0)[0]) \n",
    "    acc_ds2_knn[i] = (trueneg_ds2_knn+truepos_ds2_knn)/(trueneg_ds2_knn+falseneg_ds2_knn+truepos_ds2_knn+falsepos_ds2_knn)\n",
    "    prec_ds2_knn[i] = truepos_ds2_knn/(truepos_ds2_knn+falsepos_ds2_knn)\n",
    "    rec_ds2_knn[i] = truepos_ds2_knn/(truepos_ds2_knn+falseneg_ds2_knn)\n",
    "    fmeasure_ds2_knn[i] = (2*prec_ds2_knn[i]*rec_ds2_knn[i])/(prec_ds2_knn[i]+rec_ds2_knn[i])"
   ]
  },
  {
   "cell_type": "code",
   "execution_count": 34,
   "metadata": {},
   "outputs": [
    {
     "name": "stdout",
     "output_type": "stream",
     "text": [
      "Result_DS2: [[0.52125    0.52380952 0.4675     0.49405548]\n",
      " [0.545      0.53947368 0.615      0.57476636]\n",
      " [0.545      0.54166667 0.585      0.5625    ]\n",
      " [0.525      0.52538071 0.5175     0.52141058]\n",
      " [0.5475     0.54398148 0.5875     0.56490385]\n",
      " [0.54125    0.53828306 0.58       0.55836342]\n",
      " [0.5375     0.53246753 0.615      0.57076566]\n",
      " [0.5425     0.53744493 0.61       0.57142857]\n",
      " [0.54125    0.53758542 0.59       0.56257449]\n",
      " [0.545      0.54147465 0.5875     0.56354916]\n",
      " [0.53125    0.52913753 0.5675     0.54764777]\n",
      " [0.5225     0.52195122 0.535      0.52839506]\n",
      " [0.52625    0.52861035 0.485      0.50586701]\n",
      " [0.535      0.5292887  0.6325     0.57630979]\n",
      " [0.52875    0.5335277  0.4575     0.49259758]\n",
      " [0.55625    0.54880694 0.6325     0.58768873]\n",
      " [0.54625    0.54373522 0.575      0.55893074]\n",
      " [0.51625    0.51460674 0.5725     0.54201183]\n",
      " [0.51625    0.51800554 0.4675     0.49145861]\n",
      " [0.54       0.5372093  0.5775     0.55662651]\n",
      " [0.52875    0.52527473 0.5975     0.55906433]\n",
      " [0.545      0.53913043 0.62       0.57674419]\n",
      " [0.53875    0.53421634 0.605      0.56740914]\n",
      " [0.54125    0.5391924  0.5675     0.55298417]\n",
      " [0.54125    0.53846154 0.5775     0.55729795]\n",
      " [0.5325     0.53023256 0.57       0.54939759]\n",
      " [0.5575     0.5504386  0.6275     0.5864486 ]\n",
      " [0.5325     0.52801724 0.6125     0.56712963]\n",
      " [0.54625    0.53978495 0.6275     0.58034682]\n",
      " [0.52125    0.52242744 0.495      0.50834403]\n",
      " [0.53375    0.52854123 0.625      0.57273769]\n",
      " [0.5425     0.53899083 0.5875     0.56220096]\n",
      " [0.52625    0.52470588 0.5575     0.54060606]\n",
      " [0.53       0.52970297 0.535      0.53233831]\n",
      " [0.53375    0.52903226 0.615      0.56878613]\n",
      " [0.5275     0.525      0.5775     0.55      ]\n",
      " [0.51       0.50900901 0.565      0.53554502]\n",
      " [0.5325     0.52888889 0.595      0.56      ]\n",
      " [0.525      0.52202643 0.5925     0.55503513]\n",
      " [0.555      0.54867257 0.62       0.58215962]\n",
      " [0.54125    0.53846154 0.5775     0.55729795]\n",
      " [0.54375    0.53914989 0.6025     0.5690673 ]\n",
      " [0.545      0.5412844  0.59       0.5645933 ]\n",
      " [0.52625    0.52413793 0.57       0.54610778]\n",
      " [0.5425     0.5372807  0.6125     0.57242991]\n",
      " [0.5375     0.53205128 0.6225     0.57373272]\n",
      " [0.535      0.53240741 0.575      0.55288462]\n",
      " [0.54125    0.53900709 0.57       0.55407047]\n",
      " [0.515      0.52803738 0.2825     0.36807818]\n",
      " [0.545      0.55454545 0.4575     0.50136986]\n",
      " [0.54625    0.54272517 0.5875     0.56422569]\n",
      " [0.54       0.53319502 0.6425     0.58276644]\n",
      " [0.5525     0.54883721 0.59       0.5686747 ]\n",
      " [0.5475     0.54589372 0.565      0.55528256]\n",
      " [0.52125    0.52109181 0.525      0.52303861]\n",
      " [0.545      0.53862661 0.6275     0.57967667]\n",
      " [0.50625    0.50639386 0.495      0.50063211]\n",
      " [0.53875    0.53333333 0.62       0.5734104 ]\n",
      " [0.5375     0.53605769 0.5575     0.54656863]\n",
      " [0.53       0.52531646 0.6225     0.56979405]\n",
      " [0.53       0.52955665 0.5375     0.53349876]\n",
      " [0.53875    0.53436807 0.6025     0.56639248]\n",
      " [0.55       0.54484305 0.6075     0.57446809]\n",
      " [0.5425     0.54047619 0.5675     0.55365854]\n",
      " [0.53375    0.53089245 0.58       0.55436081]\n",
      " [0.5275     0.52534562 0.57       0.54676259]\n",
      " [0.5425     0.53863636 0.5925     0.56428571]\n",
      " [0.54375    0.54320988 0.55       0.54658385]\n",
      " [0.53375    0.53117783 0.575      0.55222089]\n",
      " [0.5125     0.51308901 0.49       0.50127877]\n",
      " [0.54375    0.5415677  0.57       0.55542022]\n",
      " [0.53875    0.53319058 0.6225     0.57439446]\n",
      " [0.545      0.53862661 0.6275     0.57967667]\n",
      " [0.5275     0.52412281 0.5975     0.55841121]\n",
      " [0.51125    0.51015801 0.565      0.53618031]\n",
      " [0.53125    0.5331565  0.5025     0.51737452]\n",
      " [0.5375     0.54807692 0.4275     0.48033708]\n",
      " [0.54125    0.53626374 0.61       0.57076023]\n",
      " [0.53125    0.53644315 0.46       0.49528937]\n",
      " [0.53625    0.5302714  0.635      0.57792947]\n",
      " [0.5325     0.52731092 0.6275     0.57305936]\n",
      " [0.53125    0.52723312 0.605      0.56344587]\n",
      " [0.525      0.52293578 0.57       0.54545455]\n",
      " [0.53       0.54651163 0.3525     0.42857143]\n",
      " [0.54125    0.53828306 0.58       0.55836342]\n",
      " [0.52875    0.52452026 0.615      0.56616801]\n",
      " [0.53125    0.53026634 0.5475     0.53874539]\n",
      " [0.54       0.55517241 0.4025     0.46666667]\n",
      " [0.5475     0.54679803 0.555      0.55086849]\n",
      " [0.52125    0.51893096 0.5825     0.54888104]\n",
      " [0.53125    0.52834467 0.5825     0.55410226]\n",
      " [0.5525     0.54646018 0.6175     0.57981221]\n",
      " [0.53       0.52739726 0.5775     0.55131265]\n",
      " [0.54       0.53319502 0.6425     0.58276644]\n",
      " [0.53875    0.54366197 0.4825     0.51125828]\n",
      " [0.53875    0.5329087  0.6275     0.57634902]\n",
      " [0.54875    0.54631829 0.575      0.56029233]\n",
      " [0.53125    0.52759382 0.5975     0.56037515]\n",
      " [0.54125    0.53846154 0.5775     0.55729795]\n",
      " [0.5375     0.54143646 0.49       0.5144357 ]]\n"
     ]
    }
   ],
   "source": [
    "result = np.vstack((acc_ds2_knn,prec_ds2_knn,rec_ds2_knn,fmeasure_ds2_knn)).transpose()\n",
    "print(\"Result_DS2:\",result)"
   ]
  },
  {
   "cell_type": "code",
   "execution_count": 35,
   "metadata": {},
   "outputs": [
    {
     "name": "stdout",
     "output_type": "stream",
     "text": [
      "15\n",
      "3324 2676 2668 3332\n",
      "For Dataset2_KNN:\n",
      "Accuracy: 0.49933333333333335\n",
      "Precision: 0.49925149700598803\n",
      "Recall: 0.44466666666666665\n",
      "F1 Measure: 0.4703808180535966\n"
     ]
    }
   ],
   "source": [
    "best_k2 = np.argmax(fmeasure_ds2_knn)\n",
    "print(best_k2)\n",
    "############### PERFORMANCE BASED ON K IN VALIDATION \n",
    "kmatrix_test2=knn(train_ds2, test_ds2, best_k2)\n",
    "\n",
    "np.random.shuffle(kmatrix_test2)\n",
    "kmatrix_test2_neg = kmatrix_test2[:, :400]\n",
    "kmatrix_test2_pos = kmatrix_test2[:, 400:]\n",
    "\n",
    "trueneg_test2 = len(np.where(kmatrix_test2_neg == 0)[0]) \n",
    "falsepos_test2 = len(np.where(kmatrix_test2_neg == 1)[0]) \n",
    "truepos_test2 = len(np.where(kmatrix_test2_pos == 1)[0]) \n",
    "falseneg_test2 = len(np.where(kmatrix_test2_pos == 0)[0]) \n",
    "print(trueneg_test2, falsepos_test2, truepos_test2, falseneg_test2)\n",
    "\n",
    "acc_test2,prec_test2,rec_test2,fmeasure_test2 = decisionmatrix(trueneg_test2,falsepos_test2,truepos_test2, falseneg_test2)\n",
    "\n",
    "print(\"For Dataset2_KNN:\")\n",
    "print(\"Accuracy:\",acc_test2)\n",
    "print(\"Precision:\",prec_test2)\n",
    "print(\"Recall:\",rec_test2)\n",
    "print(\"F1 Measure:\",fmeasure_test2)"
   ]
  },
  {
   "cell_type": "code",
   "execution_count": null,
   "metadata": {},
   "outputs": [],
   "source": []
  },
  {
   "cell_type": "code",
   "execution_count": null,
   "metadata": {},
   "outputs": [],
   "source": []
  },
  {
   "cell_type": "code",
   "execution_count": null,
   "metadata": {},
   "outputs": [],
   "source": []
  },
  {
   "cell_type": "code",
   "execution_count": null,
   "metadata": {},
   "outputs": [],
   "source": []
  },
  {
   "cell_type": "code",
   "execution_count": null,
   "metadata": {},
   "outputs": [],
   "source": []
  }
 ],
 "metadata": {
  "kernelspec": {
   "display_name": "Python 3",
   "language": "python",
   "name": "python3"
  },
  "language_info": {
   "codemirror_mode": {
    "name": "ipython",
    "version": 3
   },
   "file_extension": ".py",
   "mimetype": "text/x-python",
   "name": "python",
   "nbconvert_exporter": "python",
   "pygments_lexer": "ipython3",
   "version": "3.7.0"
  }
 },
 "nbformat": 4,
 "nbformat_minor": 2
}
